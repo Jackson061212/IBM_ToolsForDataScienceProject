{
 "cells": [
  {
   "cell_type": "markdown",
   "id": "51fa5090-a9d1-462f-9d45-3513fbb6062d",
   "metadata": {},
   "source": [
    "# Data Science Tools and Ecosystem"
   ]
  },
  {
   "cell_type": "markdown",
   "id": "51b5cdc3-7fbd-46b3-abd2-42155fa19672",
   "metadata": {},
   "source": [
    "**We will summarize Data Science Tools and Ecosystem in this notebook**"
   ]
  },
  {
   "cell_type": "markdown",
   "id": "51a01eed-9e40-4600-a09b-03fe4ac345e7",
   "metadata": {},
   "source": [
    "**Objectives:**\n",
    "- List popular languages for Data Science\n",
    "- List popular libraries for Data Science\n",
    "- Learn to do arithmetic calculations with Jupyter Notebook"
   ]
  },
  {
   "cell_type": "markdown",
   "id": "6885b904-8080-4374-adec-dd19a85092f9",
   "metadata": {
    "tags": []
   },
   "source": [
    "Some popular languages for Data Science are:\n",
    "1. Python\n",
    "2. R\n",
    "3. SQL\n",
    "4. Java\n",
    "5. C++\n",
    "6. Javascript"
   ]
  },
  {
   "cell_type": "markdown",
   "id": "99081e5b-beda-42c6-927d-ac4329cadb42",
   "metadata": {
    "tags": []
   },
   "source": [
    "Some popular libraries for Data Science are:\n",
    "1. Scikit-learn (python)\n",
    "2. Pytorch (python)\n",
    "3. Keras (python)\n",
    "4. Matplotlib (python)\n",
    "5. Pandas (python)\n",
    "6. numpy (python)\n",
    "7. ggplot (R)\n",
    "8. dplyr (R)\n",
    "9. Stringr (R)"
   ]
  },
  {
   "cell_type": "markdown",
   "id": "ab82ba07-5cb8-45fe-9f02-3e2497d7fb85",
   "metadata": {},
   "source": [
    "| Data Science Tools       |\n",
    "|--------------------------|\n",
    "| Jupyter Notebook         |\n",
    "| RStudio                  |\n",
    "| Apache Zeppelin          |"
   ]
  },
  {
   "cell_type": "markdown",
   "id": "7bb08d4e-3a3b-4724-a460-892fba96469a",
   "metadata": {},
   "source": [
    "### Below are a few examples of evaluating arithmetic expressions in Python"
   ]
  },
  {
   "cell_type": "code",
   "execution_count": 2,
   "id": "52ae7a6d-64a7-4bb1-85fc-e5c83bcb410d",
   "metadata": {},
   "outputs": [
    {
     "data": {
      "text/plain": [
       "17"
      ]
     },
     "execution_count": 2,
     "metadata": {},
     "output_type": "execute_result"
    }
   ],
   "source": [
    "# This a simple arithmetic expression to mutiply then add integers\n",
    "(3*4)+5"
   ]
  },
  {
   "cell_type": "code",
   "execution_count": 3,
   "id": "62455c24-a9a7-4450-9270-cf53b0243b1b",
   "metadata": {},
   "outputs": [
    {
     "data": {
      "text/plain": [
       "3.3333333333333335"
      ]
     },
     "execution_count": 3,
     "metadata": {},
     "output_type": "execute_result"
    }
   ],
   "source": [
    "# This will convert 200 minutes to hours by diving by 60\n",
    "200/60"
   ]
  },
  {
   "cell_type": "markdown",
   "id": "5f0ea4fd-1777-4160-8794-9ae30cdef599",
   "metadata": {},
   "source": [
    "## Author:\n",
    "Ziyi Wei"
   ]
  },
  {
   "cell_type": "code",
   "execution_count": null,
   "id": "01601682-826a-46f5-a92f-316947dd65cd",
   "metadata": {},
   "outputs": [],
   "source": []
  }
 ],
 "metadata": {
  "kernelspec": {
   "display_name": "Python 3 (ipykernel)",
   "language": "python",
   "name": "python3"
  },
  "language_info": {
   "codemirror_mode": {
    "name": "ipython",
    "version": 3
   },
   "file_extension": ".py",
   "mimetype": "text/x-python",
   "name": "python",
   "nbconvert_exporter": "python",
   "pygments_lexer": "ipython3",
   "version": "3.9.13"
  }
 },
 "nbformat": 4,
 "nbformat_minor": 5
}
